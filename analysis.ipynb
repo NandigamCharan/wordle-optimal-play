{
 "cells": [
  {
   "cell_type": "code",
   "execution_count": 2,
   "metadata": {},
   "outputs": [],
   "source": [
    "import json"
   ]
  },
  {
   "cell_type": "code",
   "execution_count": 20,
   "metadata": {},
   "outputs": [
    {
     "name": "stdout",
     "output_type": "stream",
     "text": [
      "10657\n"
     ]
    }
   ],
   "source": [
    "f = open(\"./vocab.json\")\n",
    "words = json.load(f)\n",
    "f.close()\n",
    "\"\"\" \n",
    "JSON strucutre is\n",
    "\"wordle\" : \"vocab\"   : words.... it has 2315 words\n",
    "         : \"other\"   : words.... it has 10657 words\n",
    "\"\"\"\n",
    "\n",
    "# print(len(words))\n",
    "# print(words.keys())\n",
    "# print(words[\"wordle\"].keys())\n",
    "# print(len(words[\"wordle\"][\"vocab\"]))\n",
    "# print(len(words[\"wordle\"][\"other\"]))\n"
   ]
  },
  {
   "cell_type": "code",
   "execution_count": null,
   "metadata": {},
   "outputs": [],
   "source": []
  }
 ],
 "metadata": {
  "interpreter": {
   "hash": "c6e4e9f98eb68ad3b7c296f83d20e6de614cb42e90992a65aa266555a3137d0d"
  },
  "kernelspec": {
   "display_name": "Python 3.9.7 64-bit ('base': conda)",
   "language": "python",
   "name": "python3"
  },
  "language_info": {
   "codemirror_mode": {
    "name": "ipython",
    "version": 3
   },
   "file_extension": ".py",
   "mimetype": "text/x-python",
   "name": "python",
   "nbconvert_exporter": "python",
   "pygments_lexer": "ipython3",
   "version": "3.9.7"
  },
  "orig_nbformat": 4
 },
 "nbformat": 4,
 "nbformat_minor": 2
}
