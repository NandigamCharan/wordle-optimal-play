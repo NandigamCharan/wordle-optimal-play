{
 "cells": [
  {
   "cell_type": "code",
   "execution_count": null,
   "metadata": {},
   "outputs": [],
   "source": [
    "import json\n",
    "from wordle import *"
   ]
  },
  {
   "cell_type": "code",
   "execution_count": null,
   "metadata": {},
   "outputs": [],
   "source": [
    "def dictionary(all_words=False):\n",
    "    filepath = \"./vocab.json\"\n",
    "    f = open(filepath)\n",
    "    j = json.load(f)\n",
    "    f.close()\n",
    "    if all_words:\n",
    "        return set(j[\"wordle\"][\"vocab\"]).union(set(j[\"wordle\"][\"other\"]))\n",
    "    return set(j[\"wordle\"][\"vocab\"])"
   ]
  },
  {
   "cell_type": "code",
   "execution_count": null,
   "metadata": {},
   "outputs": [],
   "source": [
    "\n",
    "def letter_freq(words):\n",
    "    table = {}           # freq table\n",
    "    for word in words:\n",
    "        for i in word:\n",
    "            if i not in table:\n",
    "                table[i]  = 0\n",
    "            table[i] += 1\n",
    "    return table"
   ]
  },
  {
   "cell_type": "code",
   "execution_count": null,
   "metadata": {},
   "outputs": [],
   "source": [
    "def play_easy():\n",
    "    wordle = Wordle()\n",
    "    def best(words):\n",
    "        pass\n",
    "    \n",
    "    picks = {}\n",
    "    words = dictionary()\n",
    "    freq = sorted(list(letter_freq(words).items()), key= lambda x: x[1])\n",
    "    print(freq)\n",
    "\n"
   ]
  },
  {
   "cell_type": "code",
   "execution_count": null,
   "metadata": {},
   "outputs": [],
   "source": [
    "def play_hard(wordle):\n",
    "    wordle = Wordle(hard=True)\n",
    "    "
   ]
  }
 ],
 "metadata": {
  "language_info": {
   "name": "python"
  },
  "orig_nbformat": 4
 },
 "nbformat": 4,
 "nbformat_minor": 2
}
